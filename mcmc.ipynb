{
 "cells": [
  {
   "cell_type": "code",
   "execution_count": 1,
   "metadata": {},
   "outputs": [],
   "source": [
    "import numpy as np"
   ]
  },
  {
   "cell_type": "code",
   "execution_count": null,
   "metadata": {},
   "outputs": [],
   "source": []
  },
  {
   "cell_type": "code",
   "execution_count": 2,
   "metadata": {},
   "outputs": [
    {
     "data": {
      "text/plain": [
       "{0: 'Burger', 1: 'Pizza', 2: 'Hotdog'}"
      ]
     },
     "execution_count": 2,
     "metadata": {},
     "output_type": "execute_result"
    }
   ],
   "source": [
    "state = {\n",
    "    0 : \"Burger\",\n",
    "    1 : \"Pizza\",\n",
    "    2 : \"Hotdog\"\n",
    "}\n",
    "state"
   ]
  },
  {
   "cell_type": "markdown",
   "metadata": {},
   "source": [
    "### Transition matrix"
   ]
  },
  {
   "cell_type": "code",
   "execution_count": 3,
   "metadata": {},
   "outputs": [
    {
     "data": {
      "text/plain": [
       "array([[0.2, 0.6, 0.2],\n",
       "       [0.3, 0. , 0.7],\n",
       "       [0.5, 0. , 0.5]])"
      ]
     },
     "execution_count": 3,
     "metadata": {},
     "output_type": "execute_result"
    }
   ],
   "source": [
    "# A_ij = P(X_n = j | X_n-1 = i)\n",
    "A = np.array([[0.2, 0.6, 0.2], [0.3, 0.0, 0.7], [0.5, 0.0, 0.5]])\n",
    "A"
   ]
  },
  {
   "cell_type": "markdown",
   "metadata": {},
   "source": [
    "### Random Walk on Markow Chain "
   ]
  },
  {
   "cell_type": "code",
   "execution_count": 4,
   "metadata": {},
   "outputs": [
    {
     "name": "stdout",
     "output_type": "stream",
     "text": [
      "Burger ---> Pizza ---> Hotdog ---> Hotdog ---> Hotdog ---> Burger ---> Pizza ---> Hotdog ---> Hotdog ---> Burger ---> Pizza ---> Hotdog ---> Burger ---> Burger ---> Burger ---> stop\n"
     ]
    }
   ],
   "source": [
    "n = 15\n",
    "start_state = 0\n",
    "curr_state = start_state\n",
    "print(state[curr_state], \"--->\", end=\" \")\n",
    "\n",
    "while n-1:\n",
    "    curr_state = np.random.choice([0, 1, 2], p=A[curr_state])\n",
    "    print(state[curr_state], \"--->\", end=\" \")\n",
    "    n-=1\n",
    "print(\"stop\")"
   ]
  },
  {
   "cell_type": "markdown",
   "metadata": {},
   "source": [
    "### Monte Carlo (MCMC"
   ]
  },
  {
   "cell_type": "code",
   "execution_count": 7,
   "metadata": {},
   "outputs": [
    {
     "name": "stdout",
     "output_type": "stream",
     "text": [
      "π =  [0.352595 0.211324 0.436082]\n"
     ]
    }
   ],
   "source": [
    "steps = 10**6\n",
    "start_state = 0\n",
    "curr_state = start_state\n",
    "pi = np.array([0, 0, 0])\n",
    "pi[start_state] = 1\n",
    "\n",
    "i = 0\n",
    "while i<steps:\n",
    "    curr_state = np.random.choice([0,1,2], p=A[curr_state])\n",
    "    pi[curr_state]+=1\n",
    "    i +=1\n",
    "\n",
    "pi_normalized = pi/steps\n",
    "print(\"π = \", pi_normalized)"
   ]
  },
  {
   "cell_type": "markdown",
   "metadata": {},
   "source": [
    "### Finding probability of a particular sequence"
   ]
  },
  {
   "cell_type": "code",
   "execution_count": 12,
   "metadata": {},
   "outputs": [
    {
     "name": "stdout",
     "output_type": "stream",
     "text": [
      "0.0369817\n"
     ]
    }
   ],
   "source": [
    "def find_prob(seq, A, pi):\n",
    "    start_state = seq[0]\n",
    "    prob = pi[start_state]\n",
    "    prev_state, curr_state = start_state, start_state\n",
    "    for i in range(1, len(seq)):\n",
    "        curr_state = seq[i]\n",
    "        prob *= A[prev_state][curr_state]\n",
    "        prev_state = curr_state\n",
    "    return prob\n",
    "\n",
    "print(find_prob([1, 2, 2, 0], A, pi_normalized))"
   ]
  },
  {
   "cell_type": "markdown",
   "metadata": {},
   "source": [
    "# MCweather"
   ]
  },
  {
   "cell_type": "code",
   "execution_count": 1,
   "metadata": {},
   "outputs": [
    {
     "name": "stdout",
     "output_type": "stream",
     "text": [
      "[0.4 0.2 0.4]\n"
     ]
    }
   ],
   "source": [
    "# -*- coding: utf-8 -*-\n",
    "\"\"\"\n",
    "Created on Sun Nov 28 21:46:45 2021\n",
    "\n",
    "@author: Izat\n",
    "\"\"\"\n",
    "\n",
    "\n",
    "import numpy as np\n",
    "from numpy.linalg import matrix_power\n",
    "\n",
    "events = ['rainy', 'sunny', 'cloudy']\n",
    "\n",
    "transition = np.array([[0.5, 0.25, 0.25], [0.5, 0, 0.5], [0.25, 0.25, 0.5]])\n",
    "\n",
    "rain_ = np.array([1, 0, 0])\n",
    "sun_ = np.array([0, 1, 0])\n",
    "cloud_ = np.array([0, 0, 1])\n",
    "\n",
    "sun_pred = sun_.dot(matrix_power(transition, 7))\n",
    "\n",
    "\n",
    "\n",
    "#evals, evecs = np.linalg.eig(transition.T)\n",
    "#evec1 = evecs[:,np.isclose(evals, 1)]\n",
    "\n",
    "#evec1 = evec1[:,0]\n",
    "\n",
    "#stationary = evec1 / evec1.sum()\n",
    "\n",
    "#stationary = stationary.real\n",
    "stationary = []\n",
    "i = 1\n",
    "while True:\n",
    "  sun_pred_1 = sun_.dot(matrix_power(transition, i))\n",
    "  sun_pred_2 = sun_.dot(matrix_power(transition, i+2))\n",
    "  stationary = sun_pred_2\n",
    "  if(all(sun_pred_1 == sun_pred_2)):\n",
    "    break\n",
    "  i+=1\n",
    "\n",
    "\n",
    "\n",
    "print(stationary)\n",
    "\n",
    "#stationary distribution\n",
    "#talk about rock reconstruction (porosity, permeability)"
   ]
  },
  {
   "cell_type": "markdown",
   "metadata": {},
   "source": [
    "# MCarea"
   ]
  },
  {
   "cell_type": "code",
   "execution_count": 2,
   "metadata": {},
   "outputs": [
    {
     "ename": "IndexError",
     "evalue": "index 491 is out of bounds for axis 0 with size 252",
     "output_type": "error",
     "traceback": [
      "\u001b[1;31m---------------------------------------------------------------------------\u001b[0m",
      "\u001b[1;31mIndexError\u001b[0m                                Traceback (most recent call last)",
      "\u001b[1;32m~\\AppData\\Local\\Temp/ipykernel_9044/3402198456.py\u001b[0m in \u001b[0;36m<module>\u001b[1;34m\u001b[0m\n\u001b[0;32m     25\u001b[0m \u001b[1;33m\u001b[0m\u001b[0m\n\u001b[0;32m     26\u001b[0m \u001b[1;31m#mapping\u001b[0m\u001b[1;33m\u001b[0m\u001b[1;33m\u001b[0m\u001b[0m\n\u001b[1;32m---> 27\u001b[1;33m \u001b[0ma\u001b[0m \u001b[1;33m=\u001b[0m \u001b[0mobj\u001b[0m\u001b[1;33m[\u001b[0m\u001b[0mrand_map\u001b[0m\u001b[1;33m[\u001b[0m\u001b[1;36m1\u001b[0m\u001b[1;33m,\u001b[0m \u001b[1;33m:\u001b[0m\u001b[1;33m]\u001b[0m\u001b[1;33m,\u001b[0m \u001b[0mrand_map\u001b[0m\u001b[1;33m[\u001b[0m\u001b[1;36m0\u001b[0m\u001b[1;33m,\u001b[0m \u001b[1;33m:\u001b[0m\u001b[1;33m]\u001b[0m\u001b[1;33m]\u001b[0m \u001b[1;33m==\u001b[0m \u001b[1;36m0\u001b[0m\u001b[1;33m\u001b[0m\u001b[1;33m\u001b[0m\u001b[0m\n\u001b[0m\u001b[0;32m     28\u001b[0m \u001b[1;31m#find number of point in zone\u001b[0m\u001b[1;33m\u001b[0m\u001b[1;33m\u001b[0m\u001b[0m\n\u001b[0;32m     29\u001b[0m \u001b[0mnumber_of_p_in_zone\u001b[0m \u001b[1;33m=\u001b[0m \u001b[0mnp\u001b[0m\u001b[1;33m.\u001b[0m\u001b[0msum\u001b[0m\u001b[1;33m(\u001b[0m\u001b[0ma\u001b[0m\u001b[1;33m)\u001b[0m\u001b[1;33m\u001b[0m\u001b[1;33m\u001b[0m\u001b[0m\n",
      "\u001b[1;31mIndexError\u001b[0m: index 491 is out of bounds for axis 0 with size 252"
     ]
    },
    {
     "data": {
      "image/png": "[encoded data removed]",
      "text/plain": [
       "<Figure size 432x288 with 1 Axes>"
      ]
     },
     "metadata": {
      "needs_background": "light"
     },
     "output_type": "display_data"
    }
   ],
   "source": [
    "# -*- coding: utf-8 -*-\n",
    "\"\"\"\n",
    "Created on Sun Nov 28 18:34:15 2021\n",
    "\n",
    "@author: Izat\n",
    "\"\"\"\n",
    "\n",
    "\n",
    "import numpy as np\n",
    "import matplotlib.pyplot as plt\n",
    "from PIL import Image\n",
    "\n",
    "\n",
    "\n",
    "\n",
    "\n",
    "obj = np.array(Image.open(\"sample.jpg\"))[:, :, 0]\n",
    "plt.imshow(obj)\n",
    " \n",
    "gen_num = 100\n",
    "a = np.random.uniform(0, 500, gen_num)\n",
    "b = np.random.uniform(0, 500, gen_num)\n",
    "rand_map = np.vstack((a, b)).astype('int')\n",
    "plt.plot(rand_map[0, :], rand_map[1, :], 'o')\n",
    "\n",
    "#mapping\n",
    "a = obj[rand_map[1, :], rand_map[0, :]] == 0\n",
    "#find number of point in zone\n",
    "number_of_p_in_zone = np.sum(a)\n",
    "\n",
    "\n",
    "total_area = 150\n",
    "area = (number_of_p_in_zone/gen_num)*total_area\n",
    "    \n",
    "\n",
    "\n",
    "\n",
    "\n",
    "def MCarea(total_area, gen_num):\n",
    "    obj = np.array(Image.open(\"sample.jpg\"))[:, :, 0]    \n",
    "    a = np.random.uniform(0, len(obj[0, :]), gen_num)\n",
    "    b = np.random.uniform(0, len(obj[:, 0]), gen_num)\n",
    "    rand_map = np.vstack((a, b)).astype('int')\n",
    "    plt.plot(rand_map[0, :], rand_map[1, :], 'o')\n",
    "    \n",
    "    #mapping\n",
    "    a = obj[rand_map[1, :], rand_map[0, :]] == 0\n",
    "    #find number of point in zone\n",
    "    number_of_p_in_zone = np.sum(a)\n",
    "    \n",
    "    #area\n",
    "    area = (number_of_p_in_zone/gen_num)*total_area\n",
    "    \n",
    "    return(area)\n",
    "\n",
    "\n",
    "#test on stability\n",
    "gen_test = np.arange(10, 50000, 30)\n",
    "data = []\n",
    "for i in range(len(gen_test)):\n",
    "    data.append(MCarea(100, gen_test[i]))\n",
    "    \n",
    "    \n",
    "plt.plot(gen_test, data)"
   ]
  },
  {
   "cell_type": "code",
   "execution_count": 3,
   "metadata": {},
   "outputs": [
    {
     "data": {
      "text/plain": [
       "[<matplotlib.lines.Line2D at 0x1db1e2771f0>]"
      ]
     },
     "execution_count": 3,
     "metadata": {},
     "output_type": "execute_result"
    },
    {
     "data": {
      "image/png": "[encoded data removed]",
      "text/plain": [
       "<Figure size 432x288 with 1 Axes>"
      ]
     },
     "metadata": {
      "needs_background": "light"
     },
     "output_type": "display_data"
    }
   ],
   "source": [
    "import matplotlib.pyplot as plt\n",
    "from PIL import Image\n",
    "\n",
    "def MCarea(img, gen_num):\n",
    "    obj = np.array(img)[:, :, 0]    \n",
    "    a = np.random.randint(0, len(obj[0, :]), gen_num)\n",
    "    b = np.random.randint(0, len(obj[:, 0]), gen_num)\n",
    "    rand_map = np.vstack((a, b)).astype('int')\n",
    "    plt.plot(rand_map[0, :], rand_map[1, :], 'o')\n",
    "    total_area = np.shape(obj)[0]*np.shape(obj)[1]\n",
    "    #mapping\n",
    "    a = obj[rand_map[1, :], rand_map[0, :]] == 0\n",
    "    #find number of point in zone\n",
    "    number_of_p_in_zone = np.sum(a)\n",
    "    \n",
    "    #area\n",
    "    area = (number_of_p_in_zone/gen_num)*total_area\n",
    "    \n",
    "    return(area)\n",
    "\n",
    "\n",
    "#test on stability\n",
    "img = Image.open(r\"sample.jpg\")\n",
    "gen_test = np.arange(10, 50000, 30)\n",
    "data = []\n",
    "for i in range(len(gen_test)):\n",
    "    data.append(MCarea(img, gen_test[i]))\n",
    "    \n",
    "    \n",
    "plt.plot(gen_test, data)"
   ]
  }
 ],
 "metadata": {
  "interpreter": {
   "hash": "6961891b2b8b8fd011c2ef611f5aa2bb6a0ea8258ff7f961608352958019dfec"
  },
  "kernelspec": {
   "display_name": "Python 3.9.9 64-bit (windows store)",
   "language": "python",
   "name": "python3"
  },
  "language_info": {
   "codemirror_mode": {
    "name": "ipython",
    "version": 3
   },
   "file_extension": ".py",
   "mimetype": "text/x-python",
   "name": "python",
   "nbconvert_exporter": "python",
   "pygments_lexer": "ipython3",
   "version": "3.9.9"
  },
  "orig_nbformat": 4
 },
 "nbformat": 4,
 "nbformat_minor": 2
}
